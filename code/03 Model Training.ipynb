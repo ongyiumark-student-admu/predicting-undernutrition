{
 "cells": [
  {
   "cell_type": "markdown",
   "id": "d3804970",
   "metadata": {},
   "source": [
    "# 1. Importing Libraries"
   ]
  },
  {
   "cell_type": "code",
   "execution_count": 11,
   "id": "64f01296",
   "metadata": {},
   "outputs": [],
   "source": [
    "import pandas as pd\n",
    "import numpy as np\n",
    "\n",
    "import tensorflow as tf\n",
    "from sklearn.model_selection import StratifiedKFold\n",
    "from pytorch_tabnet.tab_model import TabNetClassifier\n",
    "import imblearn as imb\n",
    "\n",
    "import os"
   ]
  },
  {
   "cell_type": "markdown",
   "id": "ff06279b",
   "metadata": {},
   "source": [
    "### Testing Tensorflow GPU"
   ]
  },
  {
   "cell_type": "code",
   "execution_count": 12,
   "id": "e8056044",
   "metadata": {},
   "outputs": [
    {
     "data": {
      "text/plain": [
       "True"
      ]
     },
     "execution_count": 12,
     "metadata": {},
     "output_type": "execute_result"
    }
   ],
   "source": [
    "tf.test.is_built_with_cuda()"
   ]
  },
  {
   "cell_type": "markdown",
   "id": "453bca0c",
   "metadata": {},
   "source": [
    "# 2. Project Variables"
   ]
  },
  {
   "cell_type": "code",
   "execution_count": 13,
   "id": "90b17584",
   "metadata": {},
   "outputs": [],
   "source": [
    "from functions import *"
   ]
  },
  {
   "cell_type": "code",
   "execution_count": 14,
   "id": "63a200f8",
   "metadata": {},
   "outputs": [],
   "source": [
    "DATA_DIR = '../train-test-data'\n",
    "NUM_FOLDS = 2\n",
    "TASKS_TO_RUN = ['2aii', '2aiii']"
   ]
  },
  {
   "cell_type": "markdown",
   "id": "c8a9a438",
   "metadata": {},
   "source": [
    "# 3. Model Training"
   ]
  },
  {
   "cell_type": "code",
   "execution_count": 15,
   "id": "b9af82a8",
   "metadata": {},
   "outputs": [],
   "source": [
    "def train_tabnet(train, test, task):\n",
    "    X_train, y_train = df_to_nparray(train, task)\n",
    "    X_test, y_test = df_to_nparray(test, task)\n",
    "\n",
    "    model = TabNetClassifier()\n",
    "    model.fit(X_train, y_train)\n",
    "    preds = model.predict(X_test)\n",
    "\n",
    "    tp, fp, tn, fn = [0,0,0,0]\n",
    "    for p,a in zip(preds, y_test):\n",
    "        if (p == 'INCREASED RISK' and a == 'INCREASED RISK'): tp += 1\n",
    "        elif (p == 'INCREASED RISK' and a == 'REDUCED RISK'): fp += 1\n",
    "        elif (p == 'REDUCED RISK' and a == 'INCREASED RISK'): fn += 1\n",
    "        else: tn += 1\n",
    "\n",
    "    accuracy = (tp+tn)/(tp+tn+fp+fn)\n",
    "    sensitivity = tp/(tp+fn)\n",
    "    specificity = tn/(tn+fp)\n",
    "\n",
    "    return -1, accuracy, sensitivity, specificity"
   ]
  },
  {
   "cell_type": "code",
   "execution_count": null,
   "id": "4a24d79c",
   "metadata": {},
   "outputs": [],
   "source": []
  },
  {
   "cell_type": "code",
   "execution_count": 10,
   "id": "5971e754",
   "metadata": {
    "scrolled": true
   },
   "outputs": [
    {
     "ename": "ValueError",
     "evalue": "The number of folds must be of Integral type. ['CHILD_SEX', 'IDD_SCORE', 'AGE', 'HHID_count', 'HH_AGE', 'FOOD_EXPENSE_WEEKLY', 'NON-FOOD_EXPENSE_WEEKLY', 'HDD_SCORE', 'FOOD_INSECURITY', 'YoungBoys', 'YoungGirls', 'AverageMonthlyIncome', 'BEN_4PS', 'AREA_TYPE', 'FOOD_EXPENSE_WEEKLY_pc', 'NON-FOOD_EXPENSE_WEEKLY_pc', 'AverageMonthlyIncome_pc'] of type <class 'list'> was passed.",
     "output_type": "error",
     "traceback": [
      "\u001b[1;31m---------------------------------------------------------------------------\u001b[0m",
      "\u001b[1;31mValueError\u001b[0m                                Traceback (most recent call last)",
      "Input \u001b[1;32mIn [10]\u001b[0m, in \u001b[0;36m<cell line: 8>\u001b[1;34m()\u001b[0m\n\u001b[0;32m      3\u001b[0m included_cols \u001b[38;5;241m=\u001b[39m [\u001b[38;5;124m'\u001b[39m\u001b[38;5;124mCHILD_SEX\u001b[39m\u001b[38;5;124m'\u001b[39m,\u001b[38;5;124m'\u001b[39m\u001b[38;5;124mIDD_SCORE\u001b[39m\u001b[38;5;124m'\u001b[39m,\u001b[38;5;124m'\u001b[39m\u001b[38;5;124mAGE\u001b[39m\u001b[38;5;124m'\u001b[39m,\u001b[38;5;124m'\u001b[39m\u001b[38;5;124mHHID_count\u001b[39m\u001b[38;5;124m'\u001b[39m,\u001b[38;5;124m'\u001b[39m\u001b[38;5;124mHH_AGE\u001b[39m\u001b[38;5;124m'\u001b[39m,\u001b[38;5;124m'\u001b[39m\u001b[38;5;124mFOOD_EXPENSE_WEEKLY\u001b[39m\u001b[38;5;124m'\u001b[39m,\n\u001b[0;32m      4\u001b[0m                  \u001b[38;5;124m'\u001b[39m\u001b[38;5;124mNON-FOOD_EXPENSE_WEEKLY\u001b[39m\u001b[38;5;124m'\u001b[39m,\u001b[38;5;124m'\u001b[39m\u001b[38;5;124mHDD_SCORE\u001b[39m\u001b[38;5;124m'\u001b[39m,\u001b[38;5;124m'\u001b[39m\u001b[38;5;124mFOOD_INSECURITY\u001b[39m\u001b[38;5;124m'\u001b[39m,\u001b[38;5;124m'\u001b[39m\u001b[38;5;124mYoungBoys\u001b[39m\u001b[38;5;124m'\u001b[39m,\u001b[38;5;124m'\u001b[39m\u001b[38;5;124mYoungGirls\u001b[39m\u001b[38;5;124m'\u001b[39m,\n\u001b[0;32m      5\u001b[0m                  \u001b[38;5;124m'\u001b[39m\u001b[38;5;124mAverageMonthlyIncome\u001b[39m\u001b[38;5;124m'\u001b[39m,\u001b[38;5;124m'\u001b[39m\u001b[38;5;124mBEN_4PS\u001b[39m\u001b[38;5;124m'\u001b[39m,\u001b[38;5;124m'\u001b[39m\u001b[38;5;124mAREA_TYPE\u001b[39m\u001b[38;5;124m'\u001b[39m,\u001b[38;5;124m'\u001b[39m\u001b[38;5;124mFOOD_EXPENSE_WEEKLY_pc\u001b[39m\u001b[38;5;124m'\u001b[39m,\n\u001b[0;32m      6\u001b[0m                  \u001b[38;5;124m'\u001b[39m\u001b[38;5;124mNON-FOOD_EXPENSE_WEEKLY_pc\u001b[39m\u001b[38;5;124m'\u001b[39m,\u001b[38;5;124m'\u001b[39m\u001b[38;5;124mAverageMonthlyIncome_pc\u001b[39m\u001b[38;5;124m'\u001b[39m]\n\u001b[0;32m      8\u001b[0m \u001b[38;5;28;01mfor\u001b[39;00m task \u001b[38;5;129;01min\u001b[39;00m TASKS_TO_RUN:\n\u001b[1;32m----> 9\u001b[0m     metric \u001b[38;5;241m=\u001b[39m \u001b[43mtrain_kfold\u001b[49m\u001b[43m(\u001b[49m\u001b[43mNUM_FOLDS\u001b[49m\u001b[43m,\u001b[49m\u001b[43m \u001b[49m\u001b[43mtask\u001b[49m\u001b[43m,\u001b[49m\u001b[43m \u001b[49m\u001b[43mincluded_cols\u001b[49m\u001b[43m,\u001b[49m\u001b[43m \u001b[49m\u001b[43mtrain_tabnet\u001b[49m\u001b[43m)\u001b[49m\n\u001b[0;32m     10\u001b[0m     metrics[task] \u001b[38;5;241m=\u001b[39m metric\n",
      "File \u001b[1;32mD:\\Amalgam\\School\\Thesis\\predicting-undernutrition\\code\\functions.py:160\u001b[0m, in \u001b[0;36mtrain_kfold\u001b[1;34m(train_set, label, num_fold, train_func, **kwargs)\u001b[0m\n\u001b[0;32m    157\u001b[0m spec_per_fold \u001b[38;5;241m=\u001b[39m []\n\u001b[0;32m    159\u001b[0m \u001b[38;5;66;03m# Build K folds\u001b[39;00m\n\u001b[1;32m--> 160\u001b[0m kfold \u001b[38;5;241m=\u001b[39m \u001b[43mStratifiedKFold\u001b[49m\u001b[43m(\u001b[49m\u001b[43mn_splits\u001b[49m\u001b[38;5;241;43m=\u001b[39;49m\u001b[43mnum_fold\u001b[49m\u001b[43m,\u001b[49m\u001b[43m \u001b[49m\u001b[43mshuffle\u001b[49m\u001b[38;5;241;43m=\u001b[39;49m\u001b[38;5;28;43;01mTrue\u001b[39;49;00m\u001b[43m,\u001b[49m\u001b[43m \u001b[49m\u001b[43mrandom_state\u001b[49m\u001b[38;5;241;43m=\u001b[39;49m\u001b[38;5;241;43m42\u001b[39;49m\u001b[43m)\u001b[49m\n\u001b[0;32m    161\u001b[0m \u001b[38;5;28;01mfor\u001b[39;00m train_idx, val_idx \u001b[38;5;129;01min\u001b[39;00m kfold\u001b[38;5;241m.\u001b[39msplit(train_set\u001b[38;5;241m.\u001b[39mdrop(label, axis\u001b[38;5;241m=\u001b[39m\u001b[38;5;241m1\u001b[39m), train_set[[label]]):\n\u001b[0;32m    162\u001b[0m     train \u001b[38;5;241m=\u001b[39m train_set\u001b[38;5;241m.\u001b[39miloc[train_idx]\n",
      "File \u001b[1;32mD:\\Amalgam\\School\\Thesis\\predicting-undernutrition\\thesisPU\\lib\\site-packages\\sklearn\\model_selection\\_split.py:652\u001b[0m, in \u001b[0;36mStratifiedKFold.__init__\u001b[1;34m(self, n_splits, shuffle, random_state)\u001b[0m\n\u001b[0;32m    651\u001b[0m \u001b[38;5;28;01mdef\u001b[39;00m \u001b[38;5;21m__init__\u001b[39m(\u001b[38;5;28mself\u001b[39m, n_splits\u001b[38;5;241m=\u001b[39m\u001b[38;5;241m5\u001b[39m, \u001b[38;5;241m*\u001b[39m, shuffle\u001b[38;5;241m=\u001b[39m\u001b[38;5;28;01mFalse\u001b[39;00m, random_state\u001b[38;5;241m=\u001b[39m\u001b[38;5;28;01mNone\u001b[39;00m):\n\u001b[1;32m--> 652\u001b[0m     \u001b[38;5;28;43msuper\u001b[39;49m\u001b[43m(\u001b[49m\u001b[43m)\u001b[49m\u001b[38;5;241;43m.\u001b[39;49m\u001b[38;5;21;43m__init__\u001b[39;49m\u001b[43m(\u001b[49m\u001b[43mn_splits\u001b[49m\u001b[38;5;241;43m=\u001b[39;49m\u001b[43mn_splits\u001b[49m\u001b[43m,\u001b[49m\u001b[43m \u001b[49m\u001b[43mshuffle\u001b[49m\u001b[38;5;241;43m=\u001b[39;49m\u001b[43mshuffle\u001b[49m\u001b[43m,\u001b[49m\u001b[43m \u001b[49m\u001b[43mrandom_state\u001b[49m\u001b[38;5;241;43m=\u001b[39;49m\u001b[43mrandom_state\u001b[49m\u001b[43m)\u001b[49m\n",
      "File \u001b[1;32mD:\\Amalgam\\School\\Thesis\\predicting-undernutrition\\thesisPU\\lib\\site-packages\\sklearn\\model_selection\\_split.py:279\u001b[0m, in \u001b[0;36m_BaseKFold.__init__\u001b[1;34m(self, n_splits, shuffle, random_state)\u001b[0m\n\u001b[0;32m    276\u001b[0m \u001b[38;5;129m@abstractmethod\u001b[39m\n\u001b[0;32m    277\u001b[0m \u001b[38;5;28;01mdef\u001b[39;00m \u001b[38;5;21m__init__\u001b[39m(\u001b[38;5;28mself\u001b[39m, n_splits, \u001b[38;5;241m*\u001b[39m, shuffle, random_state):\n\u001b[0;32m    278\u001b[0m     \u001b[38;5;28;01mif\u001b[39;00m \u001b[38;5;129;01mnot\u001b[39;00m \u001b[38;5;28misinstance\u001b[39m(n_splits, numbers\u001b[38;5;241m.\u001b[39mIntegral):\n\u001b[1;32m--> 279\u001b[0m         \u001b[38;5;28;01mraise\u001b[39;00m \u001b[38;5;167;01mValueError\u001b[39;00m(\n\u001b[0;32m    280\u001b[0m             \u001b[38;5;124m\"\u001b[39m\u001b[38;5;124mThe number of folds must be of Integral type. \u001b[39m\u001b[38;5;124m\"\u001b[39m\n\u001b[0;32m    281\u001b[0m             \u001b[38;5;124m\"\u001b[39m\u001b[38;5;132;01m%s\u001b[39;00m\u001b[38;5;124m of type \u001b[39m\u001b[38;5;132;01m%s\u001b[39;00m\u001b[38;5;124m was passed.\u001b[39m\u001b[38;5;124m\"\u001b[39m \u001b[38;5;241m%\u001b[39m (n_splits, \u001b[38;5;28mtype\u001b[39m(n_splits))\n\u001b[0;32m    282\u001b[0m         )\n\u001b[0;32m    283\u001b[0m     n_splits \u001b[38;5;241m=\u001b[39m \u001b[38;5;28mint\u001b[39m(n_splits)\n\u001b[0;32m    285\u001b[0m     \u001b[38;5;28;01mif\u001b[39;00m n_splits \u001b[38;5;241m<\u001b[39m\u001b[38;5;241m=\u001b[39m \u001b[38;5;241m1\u001b[39m:\n",
      "\u001b[1;31mValueError\u001b[0m: The number of folds must be of Integral type. ['CHILD_SEX', 'IDD_SCORE', 'AGE', 'HHID_count', 'HH_AGE', 'FOOD_EXPENSE_WEEKLY', 'NON-FOOD_EXPENSE_WEEKLY', 'HDD_SCORE', 'FOOD_INSECURITY', 'YoungBoys', 'YoungGirls', 'AverageMonthlyIncome', 'BEN_4PS', 'AREA_TYPE', 'FOOD_EXPENSE_WEEKLY_pc', 'NON-FOOD_EXPENSE_WEEKLY_pc', 'AverageMonthlyIncome_pc'] of type <class 'list'> was passed."
     ]
    }
   ],
   "source": [
    "metrics = {}\n",
    "\n",
    "included_cols = ['CHILD_SEX','IDD_SCORE','AGE','HHID_count','HH_AGE','FOOD_EXPENSE_WEEKLY',\n",
    "                 'NON-FOOD_EXPENSE_WEEKLY','HDD_SCORE','FOOD_INSECURITY','YoungBoys','YoungGirls',\n",
    "                 'AverageMonthlyIncome','BEN_4PS','AREA_TYPE','FOOD_EXPENSE_WEEKLY_pc',\n",
    "                 'NON-FOOD_EXPENSE_WEEKLY_pc','AverageMonthlyIncome_pc']\n",
    "\n",
    "for task in TASKS_TO_RUN:\n",
    "    metric = train_kfold(NUM_FOLDS, task, included_cols, train_nn)\n",
    "    metrics[task] = metric"
   ]
  },
  {
   "cell_type": "code",
   "execution_count": 18,
   "id": "e53389b2",
   "metadata": {},
   "outputs": [
    {
     "name": "stdout",
     "output_type": "stream",
     "text": [
      "2aii: ACCURACY: 0.706881719827652 SENSITIVITY: 0.7921538461538462 SPECIFICITY: 0.2833333333333333\n",
      "2aiii: ACCURACY: 0.6767741978168488 SENSITIVITY: 0.819927536231884 SPECIFICITY: 0.15476190476190474\n"
     ]
    }
   ],
   "source": [
    "for task in TASKS_TO_RUN:\n",
    "    print(f'{task}: ACCURACY: {metrics[task][\"ACCURACY\"][\"MEAN\"]} SENSITIVITY: {metrics[task][\"SENSITIVITY\"][\"MEAN\"]} SPECIFICITY: {metrics[task][\"SPECIFICITY\"][\"MEAN\"]}')"
   ]
  },
  {
   "cell_type": "code",
   "execution_count": 8,
   "id": "7decd061",
   "metadata": {},
   "outputs": [
    {
     "data": {
      "text/plain": [
       "[61.29032373428345,\n",
       " 67.7419364452362,\n",
       " 74.19354915618896,\n",
       " 69.9999988079071,\n",
       " 73.33333492279053,\n",
       " 80.0000011920929,\n",
       " 80.0000011920929,\n",
       " 73.33333492279053,\n",
       " 83.33333134651184,\n",
       " 83.33333134651184]"
      ]
     },
     "execution_count": 8,
     "metadata": {},
     "output_type": "execute_result"
    }
   ],
   "source": [
    "metrics['2aii']['ACCURACY']['ALL']"
   ]
  },
  {
   "cell_type": "markdown",
   "id": "486f6811",
   "metadata": {},
   "source": [
    "# Model Evaluation"
   ]
  },
  {
   "cell_type": "markdown",
   "id": "d9717ce9",
   "metadata": {},
   "source": [
    "### Note: This runs evaluates the models with the testing set. Run only at the end."
   ]
  },
  {
   "cell_type": "code",
   "execution_count": null,
   "id": "82bbcb8f",
   "metadata": {},
   "outputs": [],
   "source": []
  }
 ],
 "metadata": {
  "kernelspec": {
   "display_name": "Python (thesisPU)",
   "language": "python",
   "name": "thesispu"
  },
  "language_info": {
   "codemirror_mode": {
    "name": "ipython",
    "version": 3
   },
   "file_extension": ".py",
   "mimetype": "text/x-python",
   "name": "python",
   "nbconvert_exporter": "python",
   "pygments_lexer": "ipython3",
   "version": "3.10.6"
  }
 },
 "nbformat": 4,
 "nbformat_minor": 5
}
