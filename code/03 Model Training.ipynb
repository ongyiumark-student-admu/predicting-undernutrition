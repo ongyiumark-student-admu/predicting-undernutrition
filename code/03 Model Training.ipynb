{
 "cells": [
  {
   "cell_type": "markdown",
   "id": "d3804970",
   "metadata": {},
   "source": [
    "# 1. Importing Libraries"
   ]
  },
  {
   "cell_type": "code",
   "execution_count": null,
   "id": "64f01296",
   "metadata": {},
   "outputs": [],
   "source": [
    "import pandas as pd\n",
    "import numpy as np\n",
    "\n",
    "import tensorflow as tf\n",
    "from sklearn.model_selection import StratifiedKFold\n",
    "from pytorch_tabnet.tab_model import TabNetClassifier\n",
    "import imblearn as imb\n",
    "import predunder.functions as puf\n",
    "\n",
    "import os"
   ]
  },
  {
   "cell_type": "markdown",
   "id": "ff06279b",
   "metadata": {},
   "source": [
    "### Testing Tensorflow GPU"
   ]
  },
  {
   "cell_type": "code",
   "execution_count": null,
   "id": "e8056044",
   "metadata": {},
   "outputs": [],
   "source": [
    "tf.test.is_built_with_cuda()"
   ]
  },
  {
   "cell_type": "markdown",
   "id": "453bca0c",
   "metadata": {},
   "source": [
    "# 2. Project Variables"
   ]
  },
  {
   "cell_type": "code",
   "execution_count": null,
   "id": "63a200f8",
   "metadata": {},
   "outputs": [],
   "source": [
    "DATA_DIR = '../train-test-data'\n",
    "NUM_FOLDS = 10\n",
    "TASK_TO_RUN = '2aii'"
   ]
  },
  {
   "cell_type": "markdown",
   "id": "c8a9a438",
   "metadata": {},
   "source": [
    "# 3. Model Training"
   ]
  },
  {
   "cell_type": "code",
   "execution_count": null,
   "id": "b9af82a8",
   "metadata": {},
   "outputs": [],
   "source": [
    "def train_tabnet(train, test, task):\n",
    "    X_train, y_train = df_to_nparray(train, task)\n",
    "    X_test, y_test = df_to_nparray(test, task)\n",
    "\n",
    "    model = TabNetClassifier()\n",
    "    model.fit(X_train, y_train)\n",
    "    preds = model.predict(X_test)\n",
    "\n",
    "    tp, fp, tn, fn = [0,0,0,0]\n",
    "    for p,a in zip(preds, y_test):\n",
    "        if (p == 'INCREASED RISK' and a == 'INCREASED RISK'): tp += 1\n",
    "        elif (p == 'INCREASED RISK' and a == 'REDUCED RISK'): fp += 1\n",
    "        elif (p == 'REDUCED RISK' and a == 'INCREASED RISK'): fn += 1\n",
    "        else: tn += 1\n",
    "\n",
    "    accuracy = (tp+tn)/(tp+tn+fp+fn)\n",
    "    sensitivity = tp/(tp+fn)\n",
    "    specificity = tn/(tn+fp)\n",
    "\n",
    "    return -1, accuracy, sensitivity, specificity"
   ]
  },
  {
   "cell_type": "code",
   "execution_count": null,
   "id": "5971e754",
   "metadata": {
    "scrolled": true
   },
   "outputs": [],
   "source": [
    "included_cols = ['CHILD_SEX','IDD_SCORE','AGE','HHID_count','HH_AGE','FOOD_EXPENSE_WEEKLY',\n",
    "                 'NON-FOOD_EXPENSE_WEEKLY','HDD_SCORE','FOOD_INSECURITY','YoungBoys','YoungGirls',\n",
    "                 'AverageMonthlyIncome','BEN_4PS','AREA_TYPE','FOOD_EXPENSE_WEEKLY_pc',\n",
    "                 'NON-FOOD_EXPENSE_WEEKLY_pc','AverageMonthlyIncome_pc']\n",
    "train_df = pd.read_csv(os.path.join(DATA_DIR, f'{TASK_TO_RUN}_train.csv'), index_col=0)\n",
    "metrics = puf.train_kfold(train_df, TASK_TO_RUN, NUM_FOLDS, puf.train_dnn, features=included_cols, layers=[6])"
   ]
  },
  {
   "cell_type": "code",
   "execution_count": null,
   "id": "e53389b2",
   "metadata": {},
   "outputs": [],
   "source": [
    "metrics"
   ]
  },
  {
   "cell_type": "code",
   "execution_count": null,
   "id": "7decd061",
   "metadata": {},
   "outputs": [],
   "source": [
    "metrics['2aii']['ACCURACY']['ALL']"
   ]
  },
  {
   "cell_type": "code",
   "execution_count": null,
   "id": "176eb6fd",
   "metadata": {},
   "outputs": [],
   "source": [
    "row = pd.DataFrame()\n",
    "for metric, vals in metrics.items():\n",
    "    for key, val in vals.items():\n",
    "        row[f\"{metric}_{key}\"] = [val]\n",
    "row"
   ]
  },
  {
   "cell_type": "code",
   "execution_count": null,
   "id": "74fc73a0",
   "metadata": {},
   "outputs": [],
   "source": []
  },
  {
   "cell_type": "markdown",
   "id": "486f6811",
   "metadata": {},
   "source": [
    "# Model Evaluation"
   ]
  },
  {
   "cell_type": "markdown",
   "id": "d9717ce9",
   "metadata": {},
   "source": [
    "### Note: This runs evaluates the models with the testing set. Run only at the end."
   ]
  },
  {
   "cell_type": "code",
   "execution_count": null,
   "id": "82bbcb8f",
   "metadata": {},
   "outputs": [],
   "source": []
  }
 ],
 "metadata": {
  "kernelspec": {
   "display_name": "Python 3 (ipykernel)",
   "language": "python",
   "name": "python3"
  },
  "language_info": {
   "codemirror_mode": {
    "name": "ipython",
    "version": 3
   },
   "file_extension": ".py",
   "mimetype": "text/x-python",
   "name": "python",
   "nbconvert_exporter": "python",
   "pygments_lexer": "ipython3",
   "version": "3.10.6"
  }
 },
 "nbformat": 4,
 "nbformat_minor": 5
}
