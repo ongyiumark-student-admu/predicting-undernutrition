{
 "cells": [
  {
   "cell_type": "markdown",
   "id": "3c5a507a",
   "metadata": {},
   "source": [
    "# 1. Importing Libraries"
   ]
  },
  {
   "cell_type": "code",
   "execution_count": null,
   "id": "ea30159b",
   "metadata": {},
   "outputs": [],
   "source": [
    "import numpy as np\n",
    "import pandas as pd\n",
    "import os\n",
    "from sklearn.model_selection import train_test_split"
   ]
  },
  {
   "cell_type": "markdown",
   "id": "063b052d",
   "metadata": {},
   "source": [
    "# 2. Project Variables"
   ]
  },
  {
   "cell_type": "code",
   "execution_count": null,
   "id": "a9e3a207",
   "metadata": {},
   "outputs": [],
   "source": [
    "INPUT_DATA_DIR = '../data/processed'\n",
    "OUTPUT_DATA_DIR = '../train-test-data'\n",
    "FEATURES_FILE = os.path.join(INPUT_DATA_DIR, 'Xs.csv')\n",
    "LABELS_FILE = os.path.join(INPUT_DATA_DIR, 'Final_Tags.xlsx')"
   ]
  },
  {
   "cell_type": "markdown",
   "id": "3f93e68a",
   "metadata": {},
   "source": [
    "# 3. Split Training and Testing Files"
   ]
  },
  {
   "cell_type": "code",
   "execution_count": null,
   "id": "a927b6c0",
   "metadata": {},
   "outputs": [],
   "source": [
    "X_df = pd.read_csv(FEATURES_FILE, index_col= 0)\n",
    "labels_df = pd.read_excel(LABELS_FILE, sheet_name='FINAL TAGS', index_col=0)\n",
    "\n",
    "tasks = labels_df.columns\n",
    "features = X_df.columns\n",
    "\n",
    "data_df = pd.merge(X_df, labels_df, left_index=True, right_index=True)\n",
    "for task in tasks:\n",
    "    print(f'Processing task {task}...')\n",
    "    task_df = data_df.drop([t for t in tasks if t != task], axis=1)\n",
    "    task_df.dropna(axis=0, inplace=True)\n",
    "    \n",
    "    X_train, X_test, y_train, y_test = train_test_split(\n",
    "        task_df.drop(task, axis=1), \n",
    "        task_df[[task]], \n",
    "        test_size=0.5, \n",
    "        random_state=42,\n",
    "        stratify=task_df[task]\n",
    "    )\n",
    "\n",
    "    train_df = pd.merge(X_train, y_train, left_index=True, right_index=True)\n",
    "    test_df = pd.merge(X_test, y_test, left_index=True, right_index=True)\n",
    "\n",
    "    train_df.to_csv(os.path.join(OUTPUT_DATA_DIR, f'{task}_train.csv'))\n",
    "    test_df.to_csv(os.path.join(OUTPUT_DATA_DIR, f'{task}_test.csv'))\n",
    "    \n",
    "    print(f'Task {task} processed.')\n",
    "    print()"
   ]
  }
 ],
 "metadata": {
  "kernelspec": {
   "display_name": "thesisPU",
   "language": "python",
   "name": "thesispu"
  },
  "language_info": {
   "codemirror_mode": {
    "name": "ipython",
    "version": 3
   },
   "file_extension": ".py",
   "mimetype": "text/x-python",
   "name": "python",
   "nbconvert_exporter": "python",
   "pygments_lexer": "ipython3",
   "version": "3.10.6"
  }
 },
 "nbformat": 4,
 "nbformat_minor": 5
}
